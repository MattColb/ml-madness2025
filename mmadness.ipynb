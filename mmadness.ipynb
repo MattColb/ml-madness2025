{
 "cells": [
  {
   "cell_type": "code",
   "execution_count": 42,
   "metadata": {},
   "outputs": [],
   "source": [
    "import pandas as pd\n",
    "\n",
    "submission = pd.read_csv(\"./data/SampleSubmissionStage2.csv\")\n",
    "teams = pd.DataFrame(submission[\"ID\"].str.split(\"_\").to_list())\n",
    "cols = [\"year\", \"first_team_id\", \"second_team_id\"]\n",
    "teams.columns = cols\n",
    "teams = pd.concat([teams, submission], axis=1)\n",
    "for col in cols:\n",
    "    teams[col] = teams[col].astype(\"int64\")\n",
    "\n",
    "saved_teams = teams.copy()"
   ]
  },
  {
   "cell_type": "code",
   "execution_count": 43,
   "metadata": {},
   "outputs": [
    {
     "data": {
      "text/plain": [
       "year                0\n",
       "first_team_id       0\n",
       "second_team_id      0\n",
       "ID                  0\n",
       "Pred                0\n",
       "type                0\n",
       "first_team_name     0\n",
       "second_team_name    0\n",
       "dtype: int64"
      ]
     },
     "metadata": {},
     "output_type": "display_data"
    },
    {
     "data": {
      "text/plain": [
       "type\n",
       "M    66066\n",
       "W    65341\n",
       "Name: count, dtype: int64"
      ]
     },
     "metadata": {},
     "output_type": "display_data"
    },
    {
     "data": {
      "text/html": [
       "<div>\n",
       "<style scoped>\n",
       "    .dataframe tbody tr th:only-of-type {\n",
       "        vertical-align: middle;\n",
       "    }\n",
       "\n",
       "    .dataframe tbody tr th {\n",
       "        vertical-align: top;\n",
       "    }\n",
       "\n",
       "    .dataframe thead th {\n",
       "        text-align: right;\n",
       "    }\n",
       "</style>\n",
       "<table border=\"1\" class=\"dataframe\">\n",
       "  <thead>\n",
       "    <tr style=\"text-align: right;\">\n",
       "      <th></th>\n",
       "      <th>year</th>\n",
       "      <th>first_team_id</th>\n",
       "      <th>second_team_id</th>\n",
       "      <th>ID</th>\n",
       "      <th>Pred</th>\n",
       "      <th>type</th>\n",
       "      <th>first_team_name</th>\n",
       "      <th>second_team_name</th>\n",
       "    </tr>\n",
       "  </thead>\n",
       "  <tbody>\n",
       "    <tr>\n",
       "      <th>0</th>\n",
       "      <td>2025</td>\n",
       "      <td>1101</td>\n",
       "      <td>1102</td>\n",
       "      <td>2025_1101_1102</td>\n",
       "      <td>0.5</td>\n",
       "      <td>M</td>\n",
       "      <td>Abilene Chr</td>\n",
       "      <td>Air Force</td>\n",
       "    </tr>\n",
       "    <tr>\n",
       "      <th>1</th>\n",
       "      <td>2025</td>\n",
       "      <td>1101</td>\n",
       "      <td>1103</td>\n",
       "      <td>2025_1101_1103</td>\n",
       "      <td>0.5</td>\n",
       "      <td>M</td>\n",
       "      <td>Abilene Chr</td>\n",
       "      <td>Akron</td>\n",
       "    </tr>\n",
       "    <tr>\n",
       "      <th>2</th>\n",
       "      <td>2025</td>\n",
       "      <td>1101</td>\n",
       "      <td>1104</td>\n",
       "      <td>2025_1101_1104</td>\n",
       "      <td>0.5</td>\n",
       "      <td>M</td>\n",
       "      <td>Abilene Chr</td>\n",
       "      <td>Alabama</td>\n",
       "    </tr>\n",
       "    <tr>\n",
       "      <th>3</th>\n",
       "      <td>2025</td>\n",
       "      <td>1101</td>\n",
       "      <td>1105</td>\n",
       "      <td>2025_1101_1105</td>\n",
       "      <td>0.5</td>\n",
       "      <td>M</td>\n",
       "      <td>Abilene Chr</td>\n",
       "      <td>Alabama A&amp;M</td>\n",
       "    </tr>\n",
       "    <tr>\n",
       "      <th>4</th>\n",
       "      <td>2025</td>\n",
       "      <td>1101</td>\n",
       "      <td>1106</td>\n",
       "      <td>2025_1101_1106</td>\n",
       "      <td>0.5</td>\n",
       "      <td>M</td>\n",
       "      <td>Abilene Chr</td>\n",
       "      <td>Alabama St</td>\n",
       "    </tr>\n",
       "  </tbody>\n",
       "</table>\n",
       "</div>"
      ],
      "text/plain": [
       "   year  first_team_id  second_team_id              ID  Pred type  \\\n",
       "0  2025           1101            1102  2025_1101_1102   0.5    M   \n",
       "1  2025           1101            1103  2025_1101_1103   0.5    M   \n",
       "2  2025           1101            1104  2025_1101_1104   0.5    M   \n",
       "3  2025           1101            1105  2025_1101_1105   0.5    M   \n",
       "4  2025           1101            1106  2025_1101_1106   0.5    M   \n",
       "\n",
       "  first_team_name second_team_name  \n",
       "0     Abilene Chr        Air Force  \n",
       "1     Abilene Chr            Akron  \n",
       "2     Abilene Chr          Alabama  \n",
       "3     Abilene Chr      Alabama A&M  \n",
       "4     Abilene Chr       Alabama St  "
      ]
     },
     "execution_count": 43,
     "metadata": {},
     "output_type": "execute_result"
    }
   ],
   "source": [
    "teams = saved_teams.copy()\n",
    "mteams = pd.read_csv(\"./data/MTeams.csv\")[[\"TeamID\", \"TeamName\"]]\n",
    "wteams = pd.read_csv(\"./data/WTeams.csv\")[[\"TeamID\", \"TeamName\"]]\n",
    "\n",
    "teams = teams.merge(mteams, left_on=\"first_team_id\", right_on=\"TeamID\", how=\"left\")\n",
    "teams = teams.merge(wteams, left_on=\"first_team_id\", right_on=\"TeamID\", how=\"left\")\n",
    "\n",
    "\n",
    "teams[\"type\"] = \"M\"\n",
    "teams.loc[teams[\"TeamName_x\"].isna(), \"type\"] = \"W\"\n",
    "teams[\"first_team_name\"] = teams[\"TeamName_x\"].combine_first(teams[\"TeamName_y\"])\n",
    "teams.drop(columns=[\"TeamID_x\", \"TeamName_x\", \"TeamID_y\", \"TeamName_y\"], inplace=True)\n",
    "\n",
    "teams = teams.merge(mteams, left_on=\"second_team_id\", right_on=\"TeamID\", how=\"left\")\n",
    "teams = teams.merge(wteams, left_on=\"second_team_id\", right_on=\"TeamID\", how=\"left\")\n",
    "\n",
    "teams[\"second_team_name\"] = teams[\"TeamName_x\"].combine_first(teams[\"TeamName_y\"])\n",
    "teams.drop(columns=[\"TeamID_x\", \"TeamName_x\", \"TeamID_y\", \"TeamName_y\"], inplace=True)\n",
    "\n",
    "display(teams.isna().sum())\n",
    "display(teams.type.value_counts())\n",
    "teams.head()"
   ]
  },
  {
   "cell_type": "code",
   "execution_count": 46,
   "metadata": {},
   "outputs": [],
   "source": [
    "msubmission = teams[teams.type == \"M\"]\n",
    "msubmission.to_csv(\"./interim_data/m_submission.csv\", index=False)\n",
    "wsubmission = teams[teams.type == \"W\"]\n",
    "wsubmission.to_csv(\"./interim_data/w_submission.csv\", index=False)\n"
   ]
  }
 ],
 "metadata": {
  "kernelspec": {
   "display_name": ".venv",
   "language": "python",
   "name": "python3"
  },
  "language_info": {
   "codemirror_mode": {
    "name": "ipython",
    "version": 3
   },
   "file_extension": ".py",
   "mimetype": "text/x-python",
   "name": "python",
   "nbconvert_exporter": "python",
   "pygments_lexer": "ipython3",
   "version": "3.10.13"
  }
 },
 "nbformat": 4,
 "nbformat_minor": 2
}
